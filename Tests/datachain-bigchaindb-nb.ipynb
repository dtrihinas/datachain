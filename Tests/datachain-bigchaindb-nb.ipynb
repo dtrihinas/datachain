{
 "cells": [
  {
   "cell_type": "markdown",
   "metadata": {},
   "source": [
    "Import Datachain library and connect to blockchain backend (BigchainDB)"
   ]
  },
  {
   "cell_type": "code",
   "execution_count": 1,
   "metadata": {
    "code_folding": [
     0
    ]
   },
   "outputs": [
    {
     "name": "stdout",
     "output_type": "stream",
     "text": [
      "Datachain>> Successfully connected to Bigchaindb...\n",
      "{'backend': 'Bigchaindb', 'endpoints': ['http://localhost:9984'], 'params': {'api-key': 'AILab-x2019'}}\n"
     ]
    }
   ],
   "source": [
    "from Datachain import Datachain\n",
    "\n",
    "dc = Datachain('Bigchaindb', ['http://localhost:9984'], params={'api-key': 'AILab-x2019'})\n",
    "print(dc.getBackendConfig())"
   ]
  },
  {
   "cell_type": "markdown",
   "metadata": {},
   "source": [
    "Create participant and save credentials for future requests"
   ]
  },
  {
   "cell_type": "code",
   "execution_count": 2,
   "metadata": {},
   "outputs": [
    {
     "name": "stdout",
     "output_type": "stream",
     "text": [
      "alice private key: 3mPr2MotyJuvyGbr4rUC2bYVPgYe6eKUdsx2LXRQZWsf\n",
      "alice public key: 5tHKL2Z6YnwqdMoVSPsHSX5fLGP7uRBLmaUereEJeww6\n"
     ]
    }
   ],
   "source": [
    "alice = dc.createParticipant(save=True)\n",
    "print('alice private key: ' + alice['private_key'])\n",
    "print('alice public key: ' + alice['public_key'])"
   ]
  },
  {
   "cell_type": "markdown",
   "metadata": {},
   "source": [
    "Create asset with immutable properties and associate mutable data attributes"
   ]
  },
  {
   "cell_type": "code",
   "execution_count": 3,
   "metadata": {},
   "outputs": [
    {
     "name": "stdout",
     "output_type": "stream",
     "text": [
      "BigChainConnector>> Asset prepared, signed and verified for submission\n",
      "BigChainConnector>> Asset committed to blockchain ledger with transaction id: 9d9fcc8f70b365d2bf8d878312e8fe20ffdda4a9d3dbb0edd6b60c5bbf22e254\n"
     ]
    }
   ],
   "source": [
    "bike = {\n",
    "    'bike_serial_number': 'aXz2r12wQ34',\n",
    "    'bike_manufacturer': 'Raleigh',\n",
    "    'bike_type': 'Road Bike',\n",
    "    'bike_color': 'Red',\n",
    "    'bike_size': '26',\n",
    "    'bike_size_units': 'in',\n",
    "    'bike_weight' : 22.7,\n",
    "    'bike_weight_units': 'kg'\n",
    "}\n",
    "\n",
    "#mutable attributes\n",
    "bike_ass_data = {'distance': 5.2, 'distance_unit':'km', 'last_upd': '2019-06-14 08:45:35'}\n",
    "\n",
    "#alice credentials already stored\n",
    "resp = dc.submitAssetCreateTransaction(bike, ass_data=bike_ass_data)\n",
    "\n",
    "bikeid, tid = resp['asset_id'], resp['trans_id']"
   ]
  },
  {
   "cell_type": "code",
   "execution_count": 4,
   "metadata": {},
   "outputs": [
    {
     "data": {
      "text/plain": [
       "{'bike_serial_number': 'aXz2r12wQ34',\n",
       " 'bike_manufacturer': 'Raleigh',\n",
       " 'bike_type': 'Road Bike',\n",
       " 'bike_color': 'Red',\n",
       " 'bike_size': '26',\n",
       " 'bike_size_units': 'in',\n",
       " 'bike_weight': 22.7,\n",
       " 'bike_weight_units': 'kg'}"
      ]
     },
     "execution_count": 4,
     "metadata": {},
     "output_type": "execute_result"
    }
   ],
   "source": [
    "dc.getAsset(bikeid)"
   ]
  },
  {
   "cell_type": "code",
   "execution_count": 5,
   "metadata": {},
   "outputs": [
    {
     "name": "stdout",
     "output_type": "stream",
     "text": [
      "BigChainConnector>> Asset prepared, signed and verified for submission\n",
      "BigChainConnector>> Asset transfer committed to blockchain ledger with transaction id: f49107a8e9a51f7e783c77d1d2cf6743755fe8dbf870d0fdca1ee154178c36b2\n"
     ]
    }
   ],
   "source": [
    "bike_ass_data = {'distance': 4, 'distance_unit':'km', 'last_upd': '2019-06-14 17:24:11'}\n",
    "\n",
    "resp=dc.submitAssetAppendTransaction(bikeid, ass_data=bike_ass_data, prev_trans_id=tid)"
   ]
  },
  {
   "cell_type": "code",
   "execution_count": 6,
   "metadata": {
    "scrolled": true
   },
   "outputs": [
    {
     "name": "stdout",
     "output_type": "stream",
     "text": [
      "BigChainConnector>> Asset prepared, signed and verified for submission\n",
      "BigChainConnector>> Asset transfer committed to blockchain ledger with transaction id: f3109caf150ca725c2e1fd5afa24b193cfa81407eea2296904adf6c8693664d6\n",
      "BigChainConnector>> Asset prepared, signed and verified for submission\n",
      "BigChainConnector>> Asset transfer committed to blockchain ledger with transaction id: f8a86b2a059efa6e0232c2f841bb1a615dfb8d71e95889414514f1c103c2bc10\n",
      "BigChainConnector>> Asset prepared, signed and verified for submission\n",
      "BigChainConnector>> Asset transfer committed to blockchain ledger with transaction id: 16d5fd4bde6a2a402f4f958a997546d9a3cd44b4442bbed546d7c4a1150b202c\n",
      "BigChainConnector>> Asset prepared, signed and verified for submission\n",
      "BigChainConnector>> Asset transfer committed to blockchain ledger with transaction id: 991cdccbae107eaf3e0c412da4f8178c92c41de2d7a0713035af2df4d3f38b20\n",
      "BigChainConnector>> Asset prepared, signed and verified for submission\n",
      "BigChainConnector>> Asset transfer committed to blockchain ledger with transaction id: 0af0c656a750ad14f748226c8d77647d982632618126cd2c5cdb4745fde20b11\n",
      "BigChainConnector>> Asset prepared, signed and verified for submission\n",
      "BigChainConnector>> Asset transfer committed to blockchain ledger with transaction id: eebe9aaf95546a79c07ba0448d3789954c287026bd410a2e86d0da3cb7316bee\n",
      "BigChainConnector>> Asset prepared, signed and verified for submission\n",
      "BigChainConnector>> Asset transfer committed to blockchain ledger with transaction id: 8cf1289353b144cb6bb835686762203f677718639acef929365688ffaa623698\n",
      "BigChainConnector>> Asset prepared, signed and verified for submission\n",
      "BigChainConnector>> Asset transfer committed to blockchain ledger with transaction id: a46e719a2055d6bb77b303b793c8d66cf18b4360061573b6df4132790b4b3aee\n",
      "BigChainConnector>> Asset prepared, signed and verified for submission\n",
      "BigChainConnector>> Asset transfer committed to blockchain ledger with transaction id: 007f2dcf4bb53a053239bd1085db9257f3262e5b6a00ead75cfb4e3dc7b8ea20\n",
      "BigChainConnector>> Asset prepared, signed and verified for submission\n",
      "BigChainConnector>> Asset transfer committed to blockchain ledger with transaction id: 8d0f8c205c38527100ec6b094ccf8c49c5f3b2483f6e4a60e00edc08f4a53b8e\n",
      "BigChainConnector>> Asset prepared, signed and verified for submission\n",
      "BigChainConnector>> Asset transfer committed to blockchain ledger with transaction id: 3f7886aa7c230f700d97febcec9c8faa40e9e209c158c5b88222becd43fea27b\n",
      "BigChainConnector>> Asset prepared, signed and verified for submission\n",
      "BigChainConnector>> Asset transfer committed to blockchain ledger with transaction id: f70f7ca4abfb7196d498067dbb19801fc53acffaeafe14c982a30aa908dc5ff7\n",
      "BigChainConnector>> Asset prepared, signed and verified for submission\n",
      "BigChainConnector>> Asset transfer committed to blockchain ledger with transaction id: 57004d23fd3275efe1de24e82787374ef3ea88ddb5a13f9b9f1672cc1feafd10\n",
      "BigChainConnector>> Asset prepared, signed and verified for submission\n",
      "BigChainConnector>> Asset transfer committed to blockchain ledger with transaction id: e0f167ea1452251e390747a3c40790eeee0ca346787bab721507df63de406e5d\n"
     ]
    }
   ],
   "source": [
    "bike_ass_data = {'distance': 5.2, 'distance_unit':'km', 'last_upd': '2019-06-15 08:12:10'}\n",
    "resp=dc.submitAssetAppendTransaction(bikeid, ass_data=bike_ass_data, prev_trans_id=resp['trans_id'])\n",
    "\n",
    "bike_ass_data = {'distance': 4.3, 'distance_unit':'km', 'last_upd': '2019-06-15 16:11:53'}\n",
    "resp=dc.submitAssetAppendTransaction(bikeid, ass_data=bike_ass_data, prev_trans_id=resp['trans_id'])\n",
    "\n",
    "bike_ass_data = {'distance': 13.26, 'distance_unit':'km', 'last_upd': '2019-06-16 12:18:15'}\n",
    "resp=dc.submitAssetAppendTransaction(bikeid, ass_data=bike_ass_data, prev_trans_id=resp['trans_id'])\n",
    "\n",
    "bike_ass_data = {'distance': 11.2, 'distance_unit':'km', 'last_upd': '2019-06-17 16:14:50'}\n",
    "resp=dc.submitAssetAppendTransaction(bikeid, ass_data=bike_ass_data, prev_trans_id=resp['trans_id'])\n",
    "\n",
    "bike_ass_data = {'distance': 7.1, 'distance_unit':'km', 'last_upd': '2019-06-18 18:11:51'}\n",
    "resp=dc.submitAssetAppendTransaction(bikeid, ass_data=bike_ass_data, prev_trans_id=resp['trans_id'])\n",
    "\n",
    "bike_ass_data = {'distance': 4.1, 'distance_unit':'km', 'last_upd': '2019-06-19 08:11:51'}\n",
    "resp=dc.submitAssetAppendTransaction(bikeid, ass_data=bike_ass_data, prev_trans_id=resp['trans_id'])\n",
    "\n",
    "bike_ass_data = {'distance': 5.8, 'distance_unit':'km', 'last_upd': '2019-06-19 17:11:51'}\n",
    "resp=dc.submitAssetAppendTransaction(bikeid, ass_data=bike_ass_data, prev_trans_id=resp['trans_id'])\n",
    "\n",
    "bike_ass_data = {'distance': 6.1, 'distance_unit':'km', 'last_upd': '2019-06-20 08:11:51'}\n",
    "resp=dc.submitAssetAppendTransaction(bikeid, ass_data=bike_ass_data, prev_trans_id=resp['trans_id'])\n",
    "\n",
    "bike_ass_data = {'distance': 9.2, 'distance_unit':'km', 'last_upd': '2019-06-21 13:11:51'}\n",
    "resp=dc.submitAssetAppendTransaction(bikeid, ass_data=bike_ass_data, prev_trans_id=resp['trans_id'])\n",
    "\n",
    "bike_ass_data = {'distance': 4.8, 'distance_unit':'km', 'last_upd': '2019-06-22 09:11:51'}\n",
    "resp=dc.submitAssetAppendTransaction(bikeid, ass_data=bike_ass_data, prev_trans_id=resp['trans_id'])\n",
    "\n",
    "bike_ass_data = {'distance': 1.1, 'distance_unit':'km', 'last_upd': '2019-06-23 15:11:51'}\n",
    "resp=dc.submitAssetAppendTransaction(bikeid, ass_data=bike_ass_data, prev_trans_id=resp['trans_id'])\n",
    "\n",
    "bike_ass_data = {'distance': 3.8, 'distance_unit':'km', 'last_upd': '2019-06-24 18:11:51'}\n",
    "resp=dc.submitAssetAppendTransaction(bikeid, ass_data=bike_ass_data, prev_trans_id=resp['trans_id'])\n",
    "\n",
    "bike_ass_data = {'distance': 5.3, 'distance_unit':'km', 'last_upd': '2019-06-25 19:11:51'}\n",
    "resp=dc.submitAssetAppendTransaction(bikeid, ass_data=bike_ass_data, prev_trans_id=resp['trans_id'])\n",
    "\n",
    "bike_ass_data = {'distance': 19.4, 'distance_unit':'km', 'last_upd': '2019-06-26 14:11:51'}\n",
    "resp=dc.submitAssetAppendTransaction(bikeid, ass_data=bike_ass_data, prev_trans_id=resp['trans_id'])"
   ]
  },
  {
   "cell_type": "code",
   "execution_count": 7,
   "metadata": {
    "scrolled": true
   },
   "outputs": [
    {
     "data": {
      "text/html": [
       "<div>\n",
       "<style scoped>\n",
       "    .dataframe tbody tr th:only-of-type {\n",
       "        vertical-align: middle;\n",
       "    }\n",
       "\n",
       "    .dataframe tbody tr th {\n",
       "        vertical-align: top;\n",
       "    }\n",
       "\n",
       "    .dataframe thead th {\n",
       "        text-align: right;\n",
       "    }\n",
       "</style>\n",
       "<table border=\"1\" class=\"dataframe\">\n",
       "  <thead>\n",
       "    <tr style=\"text-align: right;\">\n",
       "      <th></th>\n",
       "      <th>distance</th>\n",
       "      <th>distance_unit</th>\n",
       "      <th>last_upd</th>\n",
       "      <th>covered_dist</th>\n",
       "    </tr>\n",
       "  </thead>\n",
       "  <tbody>\n",
       "    <tr>\n",
       "      <th>0</th>\n",
       "      <td>5.20</td>\n",
       "      <td>km</td>\n",
       "      <td>2019-06-14 08:45:35</td>\n",
       "      <td>5.20</td>\n",
       "    </tr>\n",
       "    <tr>\n",
       "      <th>1</th>\n",
       "      <td>4.00</td>\n",
       "      <td>km</td>\n",
       "      <td>2019-06-14 17:24:11</td>\n",
       "      <td>9.20</td>\n",
       "    </tr>\n",
       "    <tr>\n",
       "      <th>2</th>\n",
       "      <td>5.20</td>\n",
       "      <td>km</td>\n",
       "      <td>2019-06-15 08:12:10</td>\n",
       "      <td>14.40</td>\n",
       "    </tr>\n",
       "    <tr>\n",
       "      <th>3</th>\n",
       "      <td>4.30</td>\n",
       "      <td>km</td>\n",
       "      <td>2019-06-15 16:11:53</td>\n",
       "      <td>18.70</td>\n",
       "    </tr>\n",
       "    <tr>\n",
       "      <th>4</th>\n",
       "      <td>13.26</td>\n",
       "      <td>km</td>\n",
       "      <td>2019-06-16 12:18:15</td>\n",
       "      <td>31.96</td>\n",
       "    </tr>\n",
       "    <tr>\n",
       "      <th>5</th>\n",
       "      <td>11.20</td>\n",
       "      <td>km</td>\n",
       "      <td>2019-06-17 16:14:50</td>\n",
       "      <td>43.16</td>\n",
       "    </tr>\n",
       "    <tr>\n",
       "      <th>6</th>\n",
       "      <td>7.10</td>\n",
       "      <td>km</td>\n",
       "      <td>2019-06-18 18:11:51</td>\n",
       "      <td>50.26</td>\n",
       "    </tr>\n",
       "    <tr>\n",
       "      <th>7</th>\n",
       "      <td>4.10</td>\n",
       "      <td>km</td>\n",
       "      <td>2019-06-19 08:11:51</td>\n",
       "      <td>54.36</td>\n",
       "    </tr>\n",
       "    <tr>\n",
       "      <th>8</th>\n",
       "      <td>5.80</td>\n",
       "      <td>km</td>\n",
       "      <td>2019-06-19 17:11:51</td>\n",
       "      <td>60.16</td>\n",
       "    </tr>\n",
       "    <tr>\n",
       "      <th>9</th>\n",
       "      <td>6.10</td>\n",
       "      <td>km</td>\n",
       "      <td>2019-06-20 08:11:51</td>\n",
       "      <td>66.26</td>\n",
       "    </tr>\n",
       "    <tr>\n",
       "      <th>10</th>\n",
       "      <td>9.20</td>\n",
       "      <td>km</td>\n",
       "      <td>2019-06-21 13:11:51</td>\n",
       "      <td>75.46</td>\n",
       "    </tr>\n",
       "    <tr>\n",
       "      <th>11</th>\n",
       "      <td>4.80</td>\n",
       "      <td>km</td>\n",
       "      <td>2019-06-22 09:11:51</td>\n",
       "      <td>80.26</td>\n",
       "    </tr>\n",
       "    <tr>\n",
       "      <th>12</th>\n",
       "      <td>1.10</td>\n",
       "      <td>km</td>\n",
       "      <td>2019-06-23 15:11:51</td>\n",
       "      <td>81.36</td>\n",
       "    </tr>\n",
       "    <tr>\n",
       "      <th>13</th>\n",
       "      <td>3.80</td>\n",
       "      <td>km</td>\n",
       "      <td>2019-06-24 18:11:51</td>\n",
       "      <td>85.16</td>\n",
       "    </tr>\n",
       "    <tr>\n",
       "      <th>14</th>\n",
       "      <td>5.30</td>\n",
       "      <td>km</td>\n",
       "      <td>2019-06-25 19:11:51</td>\n",
       "      <td>90.46</td>\n",
       "    </tr>\n",
       "    <tr>\n",
       "      <th>15</th>\n",
       "      <td>19.40</td>\n",
       "      <td>km</td>\n",
       "      <td>2019-06-26 14:11:51</td>\n",
       "      <td>109.86</td>\n",
       "    </tr>\n",
       "  </tbody>\n",
       "</table>\n",
       "</div>"
      ],
      "text/plain": [
       "    distance distance_unit             last_upd  covered_dist\n",
       "0       5.20            km  2019-06-14 08:45:35          5.20\n",
       "1       4.00            km  2019-06-14 17:24:11          9.20\n",
       "2       5.20            km  2019-06-15 08:12:10         14.40\n",
       "3       4.30            km  2019-06-15 16:11:53         18.70\n",
       "4      13.26            km  2019-06-16 12:18:15         31.96\n",
       "5      11.20            km  2019-06-17 16:14:50         43.16\n",
       "6       7.10            km  2019-06-18 18:11:51         50.26\n",
       "7       4.10            km  2019-06-19 08:11:51         54.36\n",
       "8       5.80            km  2019-06-19 17:11:51         60.16\n",
       "9       6.10            km  2019-06-20 08:11:51         66.26\n",
       "10      9.20            km  2019-06-21 13:11:51         75.46\n",
       "11      4.80            km  2019-06-22 09:11:51         80.26\n",
       "12      1.10            km  2019-06-23 15:11:51         81.36\n",
       "13      3.80            km  2019-06-24 18:11:51         85.16\n",
       "14      5.30            km  2019-06-25 19:11:51         90.46\n",
       "15     19.40            km  2019-06-26 14:11:51        109.86"
      ]
     },
     "execution_count": 7,
     "metadata": {},
     "output_type": "execute_result"
    }
   ],
   "source": [
    "tab = dc.getAssetMutableData(bikeid, res_type='pandas')\n",
    "#distance covered so far\n",
    "tab['covered_dist'] = tab['distance'].cumsum() \n",
    "print(tab)"
   ]
  },
  {
   "cell_type": "code",
   "execution_count": 8,
   "metadata": {},
   "outputs": [
    {
     "data": {
      "text/plain": [
       "last_upd    2019-06-23 15:11:51\n",
       "distance                    1.1\n",
       "Name: 12, dtype: object"
      ]
     },
     "execution_count": 8,
     "metadata": {},
     "output_type": "execute_result"
    }
   ],
   "source": [
    "#datetime with min distance for alice\n",
    "tab.iloc[tab['distance'].idxmin()][['last_upd','distance']] "
   ]
  },
  {
   "cell_type": "code",
   "execution_count": 12,
   "metadata": {},
   "outputs": [
    {
     "data": {
      "text/plain": [
       "<matplotlib.axes._subplots.AxesSubplot at 0x7f9846b506a0>"
      ]
     },
     "execution_count": 12,
     "metadata": {},
     "output_type": "execute_result"
    },
    {
     "data": {
      "image/png": "[encoded data removed]",
      "text/plain": [
       "<Figure size 432x288 with 1 Axes>"
      ]
     },
     "metadata": {
      "needs_background": "light"
     },
     "output_type": "display_data"
    }
   ],
   "source": [
    "import pandas as pd\n",
    "import matplotlib.pyplot as plt\n",
    "\n",
    "bins = [0,3,6,9,12,15,100]\n",
    "cat_names = ['[0-3]', '[3,6]', '[6,9]', '[9,12]', '[12,15]', '[15-]']\n",
    "cats = pd.cut(tab['distance'],bins,labels=cat_names)\n",
    "cats\n",
    "pdata = cats.value_counts().reindex(cats.cat.categories)\n",
    "p = pdata.plot.bar()\n",
    "p.legend()\n",
    "p\n",
    "\n",
    "#tab.hist(column='distance', bins=5)\n"
   ]
  },
  {
   "cell_type": "code",
   "execution_count": 10,
   "metadata": {},
   "outputs": [
    {
     "name": "stdout",
     "output_type": "stream",
     "text": [
      "BigChainConnector>> Asset prepared, signed and verified for submission\n",
      "BigChainConnector>> Asset transfer committed to blockchain ledger with transaction id: d88695685142c241d426b0e1bf08dd2575db80dcfbcda70fecafaa0b99ab7574\n"
     ]
    }
   ],
   "source": [
    "bob = dc.createParticipant()\n",
    "resp = dc.submitAssetAppendTransaction(bikeid, ass_data=None, prev_trans_id=resp['trans_id'], \n",
    "                                       new_owner=bob, prev_owner=alice)\n",
    "\n",
    "bike_trans = dc.getAssetTransactions(bikeid, res_type='pandas')"
   ]
  },
  {
   "cell_type": "code",
   "execution_count": 11,
   "metadata": {},
   "outputs": [
    {
     "name": "stdout",
     "output_type": "stream",
     "text": [
      "BigChainConnector>> Asset prepared, signed and verified for submission\n",
      "BigChainConnector>> Asset transfer committed to blockchain ledger with transaction id: c80a301e8c16fdd664bde219249d3cd41dc70dd4b20ffe0efe51ca03a19bf666\n",
      "[{'inputs': [{'owners_before': ['5tHKL2Z6YnwqdMoVSPsHSX5fLGP7uRBLmaUereEJeww6'], 'fulfills': None, 'fulfillment': 'pGSAIEiR0UmXwJvXgo0542tyK_nFfGvYFr9O03VmRECdg_GRgUDpW_eQv_sLwKq2RU1QKgSOC-boxNcwpz7tqP8V8kDfzR6WrApXsNLiv3Uvoyln4nS1SG0yC5j7AB14tUZtqUUF'}], 'outputs': [{'public_keys': ['5tHKL2Z6YnwqdMoVSPsHSX5fLGP7uRBLmaUereEJeww6'], 'condition': {'details': {'type': 'ed25519-sha-256', 'public_key': '5tHKL2Z6YnwqdMoVSPsHSX5fLGP7uRBLmaUereEJeww6'}, 'uri': 'ni:///sha-256;dC5SO7bKvbSTrNxRdoWOuG8hserQ63uW2-iFHMUa8-w?fpt=ed25519-sha-256&cost=131072'}, 'amount': '1'}], 'operation': 'CREATE', 'metadata': {'distance': 5.2, 'distance_unit': 'km', 'last_upd': '2019-06-14 08:45:35'}, 'asset': {'data': {'bike_serial_number': 'aXz2r12wQ34', 'bike_manufacturer': 'Raleigh', 'bike_type': 'Road Bike', 'bike_color': 'Red', 'bike_size': '26', 'bike_size_units': 'in', 'bike_weight': 22.7, 'bike_weight_units': 'kg'}}, 'version': '2.0', 'id': '9d9fcc8f70b365d2bf8d878312e8fe20ffdda4a9d3dbb0edd6b60c5bbf22e254'}, {'inputs': [{'owners_before': ['5tHKL2Z6YnwqdMoVSPsHSX5fLGP7uRBLmaUereEJeww6'], 'fulfills': {'transaction_id': '9d9fcc8f70b365d2bf8d878312e8fe20ffdda4a9d3dbb0edd6b60c5bbf22e254', 'output_index': 0}, 'fulfillment': 'pGSAIEiR0UmXwJvXgo0542tyK_nFfGvYFr9O03VmRECdg_GRgUATCt0oHaa_PYb1aHhZTIJcMaNW5aWb8GT92Rz5geuW60nOqlf6ynKMuohqQg7zAdVvL8QB5pl36SW16fLHksYN'}], 'outputs': [{'public_keys': ['5tHKL2Z6YnwqdMoVSPsHSX5fLGP7uRBLmaUereEJeww6'], 'condition': {'details': {'type': 'ed25519-sha-256', 'public_key': '5tHKL2Z6YnwqdMoVSPsHSX5fLGP7uRBLmaUereEJeww6'}, 'uri': 'ni:///sha-256;dC5SO7bKvbSTrNxRdoWOuG8hserQ63uW2-iFHMUa8-w?fpt=ed25519-sha-256&cost=131072'}, 'amount': '1'}], 'operation': 'TRANSFER', 'metadata': {'distance': 4, 'distance_unit': 'km', 'last_upd': '2019-06-14 17:24:11'}, 'asset': {'id': '9d9fcc8f70b365d2bf8d878312e8fe20ffdda4a9d3dbb0edd6b60c5bbf22e254'}, 'version': '2.0', 'id': 'f49107a8e9a51f7e783c77d1d2cf6743755fe8dbf870d0fdca1ee154178c36b2'}, {'inputs': [{'owners_before': ['5tHKL2Z6YnwqdMoVSPsHSX5fLGP7uRBLmaUereEJeww6'], 'fulfills': {'transaction_id': 'f49107a8e9a51f7e783c77d1d2cf6743755fe8dbf870d0fdca1ee154178c36b2', 'output_index': 0}, 'fulfillment': 'pGSAIEiR0UmXwJvXgo0542tyK_nFfGvYFr9O03VmRECdg_GRgUCcxnxdn4rTCDvL89NhQZ4zitIdWS0dTY7VSuzQz0I617f3eCXxx5Vfz4j_w0RmJ0J6qSFOksue6xgMnWdn_9gK'}], 'outputs': [{'public_keys': ['5tHKL2Z6YnwqdMoVSPsHSX5fLGP7uRBLmaUereEJeww6'], 'condition': {'details': {'type': 'ed25519-sha-256', 'public_key': '5tHKL2Z6YnwqdMoVSPsHSX5fLGP7uRBLmaUereEJeww6'}, 'uri': 'ni:///sha-256;dC5SO7bKvbSTrNxRdoWOuG8hserQ63uW2-iFHMUa8-w?fpt=ed25519-sha-256&cost=131072'}, 'amount': '1'}], 'operation': 'TRANSFER', 'metadata': {'distance': 5.2, 'distance_unit': 'km', 'last_upd': '2019-06-15 08:12:10'}, 'asset': {'id': '9d9fcc8f70b365d2bf8d878312e8fe20ffdda4a9d3dbb0edd6b60c5bbf22e254'}, 'version': '2.0', 'id': 'f3109caf150ca725c2e1fd5afa24b193cfa81407eea2296904adf6c8693664d6'}, {'inputs': [{'owners_before': ['5tHKL2Z6YnwqdMoVSPsHSX5fLGP7uRBLmaUereEJeww6'], 'fulfills': {'transaction_id': 'f3109caf150ca725c2e1fd5afa24b193cfa81407eea2296904adf6c8693664d6', 'output_index': 0}, 'fulfillment': 'pGSAIEiR0UmXwJvXgo0542tyK_nFfGvYFr9O03VmRECdg_GRgUCDbyH2iB28NHqwDaWW89zqfJo8cJ0e4-GBXIpF3n6guSxRFSpc139q2VsdzQvj2Nklig1f1Gimqt6JC3XZvowK'}], 'outputs': [{'public_keys': ['5tHKL2Z6YnwqdMoVSPsHSX5fLGP7uRBLmaUereEJeww6'], 'condition': {'details': {'type': 'ed25519-sha-256', 'public_key': '5tHKL2Z6YnwqdMoVSPsHSX5fLGP7uRBLmaUereEJeww6'}, 'uri': 'ni:///sha-256;dC5SO7bKvbSTrNxRdoWOuG8hserQ63uW2-iFHMUa8-w?fpt=ed25519-sha-256&cost=131072'}, 'amount': '1'}], 'operation': 'TRANSFER', 'metadata': {'distance': 4.3, 'distance_unit': 'km', 'last_upd': '2019-06-15 16:11:53'}, 'asset': {'id': '9d9fcc8f70b365d2bf8d878312e8fe20ffdda4a9d3dbb0edd6b60c5bbf22e254'}, 'version': '2.0', 'id': 'f8a86b2a059efa6e0232c2f841bb1a615dfb8d71e95889414514f1c103c2bc10'}, {'inputs': [{'owners_before': ['5tHKL2Z6YnwqdMoVSPsHSX5fLGP7uRBLmaUereEJeww6'], 'fulfills': {'transaction_id': 'f8a86b2a059efa6e0232c2f841bb1a615dfb8d71e95889414514f1c103c2bc10', 'output_index': 0}, 'fulfillment': 'pGSAIEiR0UmXwJvXgo0542tyK_nFfGvYFr9O03VmRECdg_GRgUCFQ_-2YUFZAVAwbueCiLA62pC7MSKYQWKH_6J-5B6MG9dSLILi815wfrpnlJDmJ8CcZeFecG5nYB2-RFtxlxQN'}], 'outputs': [{'public_keys': ['5tHKL2Z6YnwqdMoVSPsHSX5fLGP7uRBLmaUereEJeww6'], 'condition': {'details': {'type': 'ed25519-sha-256', 'public_key': '5tHKL2Z6YnwqdMoVSPsHSX5fLGP7uRBLmaUereEJeww6'}, 'uri': 'ni:///sha-256;dC5SO7bKvbSTrNxRdoWOuG8hserQ63uW2-iFHMUa8-w?fpt=ed25519-sha-256&cost=131072'}, 'amount': '1'}], 'operation': 'TRANSFER', 'metadata': {'distance': 13.26, 'distance_unit': 'km', 'last_upd': '2019-06-16 12:18:15'}, 'asset': {'id': '9d9fcc8f70b365d2bf8d878312e8fe20ffdda4a9d3dbb0edd6b60c5bbf22e254'}, 'version': '2.0', 'id': '16d5fd4bde6a2a402f4f958a997546d9a3cd44b4442bbed546d7c4a1150b202c'}, {'inputs': [{'owners_before': ['5tHKL2Z6YnwqdMoVSPsHSX5fLGP7uRBLmaUereEJeww6'], 'fulfills': {'transaction_id': '16d5fd4bde6a2a402f4f958a997546d9a3cd44b4442bbed546d7c4a1150b202c', 'output_index': 0}, 'fulfillment': 'pGSAIEiR0UmXwJvXgo0542tyK_nFfGvYFr9O03VmRECdg_GRgUAurSwynLquXsyD_3MSQN8Cvsp7kqhgnPQNDedrr66AqeEUzv0mw4oWmewVZkqMBTb4epVwpgjkGLRsvQQcU-4C'}], 'outputs': [{'public_keys': ['5tHKL2Z6YnwqdMoVSPsHSX5fLGP7uRBLmaUereEJeww6'], 'condition': {'details': {'type': 'ed25519-sha-256', 'public_key': '5tHKL2Z6YnwqdMoVSPsHSX5fLGP7uRBLmaUereEJeww6'}, 'uri': 'ni:///sha-256;dC5SO7bKvbSTrNxRdoWOuG8hserQ63uW2-iFHMUa8-w?fpt=ed25519-sha-256&cost=131072'}, 'amount': '1'}], 'operation': 'TRANSFER', 'metadata': {'distance': 11.2, 'distance_unit': 'km', 'last_upd': '2019-06-17 16:14:50'}, 'asset': {'id': '9d9fcc8f70b365d2bf8d878312e8fe20ffdda4a9d3dbb0edd6b60c5bbf22e254'}, 'version': '2.0', 'id': '991cdccbae107eaf3e0c412da4f8178c92c41de2d7a0713035af2df4d3f38b20'}, {'inputs': [{'owners_before': ['5tHKL2Z6YnwqdMoVSPsHSX5fLGP7uRBLmaUereEJeww6'], 'fulfills': {'transaction_id': '991cdccbae107eaf3e0c412da4f8178c92c41de2d7a0713035af2df4d3f38b20', 'output_index': 0}, 'fulfillment': 'pGSAIEiR0UmXwJvXgo0542tyK_nFfGvYFr9O03VmRECdg_GRgUDOgxCI_3RBhZM2yINSy2c8_J5y0khnflXUGK6xILk1Z1grgxL-f07KEFACy0lEdkKYPbIdYfgJZoF3AY3xJ7ML'}], 'outputs': [{'public_keys': ['5tHKL2Z6YnwqdMoVSPsHSX5fLGP7uRBLmaUereEJeww6'], 'condition': {'details': {'type': 'ed25519-sha-256', 'public_key': '5tHKL2Z6YnwqdMoVSPsHSX5fLGP7uRBLmaUereEJeww6'}, 'uri': 'ni:///sha-256;dC5SO7bKvbSTrNxRdoWOuG8hserQ63uW2-iFHMUa8-w?fpt=ed25519-sha-256&cost=131072'}, 'amount': '1'}], 'operation': 'TRANSFER', 'metadata': {'distance': 7.1, 'distance_unit': 'km', 'last_upd': '2019-06-18 18:11:51'}, 'asset': {'id': '9d9fcc8f70b365d2bf8d878312e8fe20ffdda4a9d3dbb0edd6b60c5bbf22e254'}, 'version': '2.0', 'id': '0af0c656a750ad14f748226c8d77647d982632618126cd2c5cdb4745fde20b11'}, {'inputs': [{'owners_before': ['5tHKL2Z6YnwqdMoVSPsHSX5fLGP7uRBLmaUereEJeww6'], 'fulfills': {'transaction_id': '0af0c656a750ad14f748226c8d77647d982632618126cd2c5cdb4745fde20b11', 'output_index': 0}, 'fulfillment': 'pGSAIEiR0UmXwJvXgo0542tyK_nFfGvYFr9O03VmRECdg_GRgUDRjDhEH5GL_Sl-Aqv6J6r_9CWnvyeJf7ZbgjATu05cMwkWJJBxzR-9wwQhA5p14mMB-0uvMOjMuhL0HEw-BIYH'}], 'outputs': [{'public_keys': ['5tHKL2Z6YnwqdMoVSPsHSX5fLGP7uRBLmaUereEJeww6'], 'condition': {'details': {'type': 'ed25519-sha-256', 'public_key': '5tHKL2Z6YnwqdMoVSPsHSX5fLGP7uRBLmaUereEJeww6'}, 'uri': 'ni:///sha-256;dC5SO7bKvbSTrNxRdoWOuG8hserQ63uW2-iFHMUa8-w?fpt=ed25519-sha-256&cost=131072'}, 'amount': '1'}], 'operation': 'TRANSFER', 'metadata': {'distance': 4.1, 'distance_unit': 'km', 'last_upd': '2019-06-19 08:11:51'}, 'asset': {'id': '9d9fcc8f70b365d2bf8d878312e8fe20ffdda4a9d3dbb0edd6b60c5bbf22e254'}, 'version': '2.0', 'id': 'eebe9aaf95546a79c07ba0448d3789954c287026bd410a2e86d0da3cb7316bee'}, {'inputs': [{'owners_before': ['5tHKL2Z6YnwqdMoVSPsHSX5fLGP7uRBLmaUereEJeww6'], 'fulfills': {'transaction_id': 'eebe9aaf95546a79c07ba0448d3789954c287026bd410a2e86d0da3cb7316bee', 'output_index': 0}, 'fulfillment': 'pGSAIEiR0UmXwJvXgo0542tyK_nFfGvYFr9O03VmRECdg_GRgUDQWKopOCOPRlwlKEYvLhNsfPtv3xywNXZsx3JwkQwn1bjvFsh73dqvy4RpaQiSQdYd_2BT9QTxwZLNy0atgXEO'}], 'outputs': [{'public_keys': ['5tHKL2Z6YnwqdMoVSPsHSX5fLGP7uRBLmaUereEJeww6'], 'condition': {'details': {'type': 'ed25519-sha-256', 'public_key': '5tHKL2Z6YnwqdMoVSPsHSX5fLGP7uRBLmaUereEJeww6'}, 'uri': 'ni:///sha-256;dC5SO7bKvbSTrNxRdoWOuG8hserQ63uW2-iFHMUa8-w?fpt=ed25519-sha-256&cost=131072'}, 'amount': '1'}], 'operation': 'TRANSFER', 'metadata': {'distance': 5.8, 'distance_unit': 'km', 'last_upd': '2019-06-19 17:11:51'}, 'asset': {'id': '9d9fcc8f70b365d2bf8d878312e8fe20ffdda4a9d3dbb0edd6b60c5bbf22e254'}, 'version': '2.0', 'id': '8cf1289353b144cb6bb835686762203f677718639acef929365688ffaa623698'}, {'inputs': [{'owners_before': ['5tHKL2Z6YnwqdMoVSPsHSX5fLGP7uRBLmaUereEJeww6'], 'fulfills': {'transaction_id': '8cf1289353b144cb6bb835686762203f677718639acef929365688ffaa623698', 'output_index': 0}, 'fulfillment': 'pGSAIEiR0UmXwJvXgo0542tyK_nFfGvYFr9O03VmRECdg_GRgUAgEEmxbPBgyNrNXVNRRtFFUmfbIIHgtkMCSRlcc-cAafokmZJTeyc8ySbOcJttS9UF4-K6LVWy6wadSjtqKaIA'}], 'outputs': [{'public_keys': ['5tHKL2Z6YnwqdMoVSPsHSX5fLGP7uRBLmaUereEJeww6'], 'condition': {'details': {'type': 'ed25519-sha-256', 'public_key': '5tHKL2Z6YnwqdMoVSPsHSX5fLGP7uRBLmaUereEJeww6'}, 'uri': 'ni:///sha-256;dC5SO7bKvbSTrNxRdoWOuG8hserQ63uW2-iFHMUa8-w?fpt=ed25519-sha-256&cost=131072'}, 'amount': '1'}], 'operation': 'TRANSFER', 'metadata': {'distance': 6.1, 'distance_unit': 'km', 'last_upd': '2019-06-20 08:11:51'}, 'asset': {'id': '9d9fcc8f70b365d2bf8d878312e8fe20ffdda4a9d3dbb0edd6b60c5bbf22e254'}, 'version': '2.0', 'id': 'a46e719a2055d6bb77b303b793c8d66cf18b4360061573b6df4132790b4b3aee'}, {'inputs': [{'owners_before': ['5tHKL2Z6YnwqdMoVSPsHSX5fLGP7uRBLmaUereEJeww6'], 'fulfills': {'transaction_id': 'a46e719a2055d6bb77b303b793c8d66cf18b4360061573b6df4132790b4b3aee', 'output_index': 0}, 'fulfillment': 'pGSAIEiR0UmXwJvXgo0542tyK_nFfGvYFr9O03VmRECdg_GRgUAMXStIW-fT7WMwnQrgQsZGmY_riG7JtxKFyThqedIK_bwYfdiac2KPvoBYfng_GcI70Q19UEmclPrXee5PfxoN'}], 'outputs': [{'public_keys': ['5tHKL2Z6YnwqdMoVSPsHSX5fLGP7uRBLmaUereEJeww6'], 'condition': {'details': {'type': 'ed25519-sha-256', 'public_key': '5tHKL2Z6YnwqdMoVSPsHSX5fLGP7uRBLmaUereEJeww6'}, 'uri': 'ni:///sha-256;dC5SO7bKvbSTrNxRdoWOuG8hserQ63uW2-iFHMUa8-w?fpt=ed25519-sha-256&cost=131072'}, 'amount': '1'}], 'operation': 'TRANSFER', 'metadata': {'distance': 9.2, 'distance_unit': 'km', 'last_upd': '2019-06-21 13:11:51'}, 'asset': {'id': '9d9fcc8f70b365d2bf8d878312e8fe20ffdda4a9d3dbb0edd6b60c5bbf22e254'}, 'version': '2.0', 'id': '007f2dcf4bb53a053239bd1085db9257f3262e5b6a00ead75cfb4e3dc7b8ea20'}, {'inputs': [{'owners_before': ['5tHKL2Z6YnwqdMoVSPsHSX5fLGP7uRBLmaUereEJeww6'], 'fulfills': {'transaction_id': '007f2dcf4bb53a053239bd1085db9257f3262e5b6a00ead75cfb4e3dc7b8ea20', 'output_index': 0}, 'fulfillment': 'pGSAIEiR0UmXwJvXgo0542tyK_nFfGvYFr9O03VmRECdg_GRgUCotCBLxZZb9FWygx1BG8ojmNMqtluWtFH12vA-Tn8vbeNq4deeD65DJwMRp1syQccZyWfCZ1YjKrWpZq0zp3QP'}], 'outputs': [{'public_keys': ['5tHKL2Z6YnwqdMoVSPsHSX5fLGP7uRBLmaUereEJeww6'], 'condition': {'details': {'type': 'ed25519-sha-256', 'public_key': '5tHKL2Z6YnwqdMoVSPsHSX5fLGP7uRBLmaUereEJeww6'}, 'uri': 'ni:///sha-256;dC5SO7bKvbSTrNxRdoWOuG8hserQ63uW2-iFHMUa8-w?fpt=ed25519-sha-256&cost=131072'}, 'amount': '1'}], 'operation': 'TRANSFER', 'metadata': {'distance': 4.8, 'distance_unit': 'km', 'last_upd': '2019-06-22 09:11:51'}, 'asset': {'id': '9d9fcc8f70b365d2bf8d878312e8fe20ffdda4a9d3dbb0edd6b60c5bbf22e254'}, 'version': '2.0', 'id': '8d0f8c205c38527100ec6b094ccf8c49c5f3b2483f6e4a60e00edc08f4a53b8e'}, {'inputs': [{'owners_before': ['5tHKL2Z6YnwqdMoVSPsHSX5fLGP7uRBLmaUereEJeww6'], 'fulfills': {'transaction_id': '8d0f8c205c38527100ec6b094ccf8c49c5f3b2483f6e4a60e00edc08f4a53b8e', 'output_index': 0}, 'fulfillment': 'pGSAIEiR0UmXwJvXgo0542tyK_nFfGvYFr9O03VmRECdg_GRgUBKcLJLLDIIIcfyPExa-nVsbnuIolVnZ4ROsougDPFNvPXD5qxooFiP1d8jP5lvYErpIKk9N3Yk4ZW0jNvvOBMB'}], 'outputs': [{'public_keys': ['5tHKL2Z6YnwqdMoVSPsHSX5fLGP7uRBLmaUereEJeww6'], 'condition': {'details': {'type': 'ed25519-sha-256', 'public_key': '5tHKL2Z6YnwqdMoVSPsHSX5fLGP7uRBLmaUereEJeww6'}, 'uri': 'ni:///sha-256;dC5SO7bKvbSTrNxRdoWOuG8hserQ63uW2-iFHMUa8-w?fpt=ed25519-sha-256&cost=131072'}, 'amount': '1'}], 'operation': 'TRANSFER', 'metadata': {'distance': 1.1, 'distance_unit': 'km', 'last_upd': '2019-06-23 15:11:51'}, 'asset': {'id': '9d9fcc8f70b365d2bf8d878312e8fe20ffdda4a9d3dbb0edd6b60c5bbf22e254'}, 'version': '2.0', 'id': '3f7886aa7c230f700d97febcec9c8faa40e9e209c158c5b88222becd43fea27b'}, {'inputs': [{'owners_before': ['5tHKL2Z6YnwqdMoVSPsHSX5fLGP7uRBLmaUereEJeww6'], 'fulfills': {'transaction_id': '3f7886aa7c230f700d97febcec9c8faa40e9e209c158c5b88222becd43fea27b', 'output_index': 0}, 'fulfillment': 'pGSAIEiR0UmXwJvXgo0542tyK_nFfGvYFr9O03VmRECdg_GRgUAbfVttYEp4tCdFIXnabSP4XLeILaoXwj2UFY1GVCo3rKjsazJnY-F3_MUhVHJJ4qp-QxX-RmJKvlIE95HNMxAF'}], 'outputs': [{'public_keys': ['5tHKL2Z6YnwqdMoVSPsHSX5fLGP7uRBLmaUereEJeww6'], 'condition': {'details': {'type': 'ed25519-sha-256', 'public_key': '5tHKL2Z6YnwqdMoVSPsHSX5fLGP7uRBLmaUereEJeww6'}, 'uri': 'ni:///sha-256;dC5SO7bKvbSTrNxRdoWOuG8hserQ63uW2-iFHMUa8-w?fpt=ed25519-sha-256&cost=131072'}, 'amount': '1'}], 'operation': 'TRANSFER', 'metadata': {'distance': 3.8, 'distance_unit': 'km', 'last_upd': '2019-06-24 18:11:51'}, 'asset': {'id': '9d9fcc8f70b365d2bf8d878312e8fe20ffdda4a9d3dbb0edd6b60c5bbf22e254'}, 'version': '2.0', 'id': 'f70f7ca4abfb7196d498067dbb19801fc53acffaeafe14c982a30aa908dc5ff7'}, {'inputs': [{'owners_before': ['5tHKL2Z6YnwqdMoVSPsHSX5fLGP7uRBLmaUereEJeww6'], 'fulfills': {'transaction_id': 'f70f7ca4abfb7196d498067dbb19801fc53acffaeafe14c982a30aa908dc5ff7', 'output_index': 0}, 'fulfillment': 'pGSAIEiR0UmXwJvXgo0542tyK_nFfGvYFr9O03VmRECdg_GRgUAgTqU1wqdYGH7MfG43gG-AmrNSAz29VHyr6GoWE8gqbM4SSaGo-HmFGhD969mMip55EbZhEXeUYz7RVvoXxWAE'}], 'outputs': [{'public_keys': ['5tHKL2Z6YnwqdMoVSPsHSX5fLGP7uRBLmaUereEJeww6'], 'condition': {'details': {'type': 'ed25519-sha-256', 'public_key': '5tHKL2Z6YnwqdMoVSPsHSX5fLGP7uRBLmaUereEJeww6'}, 'uri': 'ni:///sha-256;dC5SO7bKvbSTrNxRdoWOuG8hserQ63uW2-iFHMUa8-w?fpt=ed25519-sha-256&cost=131072'}, 'amount': '1'}], 'operation': 'TRANSFER', 'metadata': {'distance': 5.3, 'distance_unit': 'km', 'last_upd': '2019-06-25 19:11:51'}, 'asset': {'id': '9d9fcc8f70b365d2bf8d878312e8fe20ffdda4a9d3dbb0edd6b60c5bbf22e254'}, 'version': '2.0', 'id': '57004d23fd3275efe1de24e82787374ef3ea88ddb5a13f9b9f1672cc1feafd10'}, {'inputs': [{'owners_before': ['5tHKL2Z6YnwqdMoVSPsHSX5fLGP7uRBLmaUereEJeww6'], 'fulfills': {'transaction_id': '57004d23fd3275efe1de24e82787374ef3ea88ddb5a13f9b9f1672cc1feafd10', 'output_index': 0}, 'fulfillment': 'pGSAIEiR0UmXwJvXgo0542tyK_nFfGvYFr9O03VmRECdg_GRgUBR-O8uafJydTmCZF92y0mLW9YrQmXGIO2xTSs_BsLormF-D9hj-hyLNAYiLS_npzrjUcPmry6X_CWDwG8B5p4N'}], 'outputs': [{'public_keys': ['5tHKL2Z6YnwqdMoVSPsHSX5fLGP7uRBLmaUereEJeww6'], 'condition': {'details': {'type': 'ed25519-sha-256', 'public_key': '5tHKL2Z6YnwqdMoVSPsHSX5fLGP7uRBLmaUereEJeww6'}, 'uri': 'ni:///sha-256;dC5SO7bKvbSTrNxRdoWOuG8hserQ63uW2-iFHMUa8-w?fpt=ed25519-sha-256&cost=131072'}, 'amount': '1'}], 'operation': 'TRANSFER', 'metadata': {'distance': 19.4, 'distance_unit': 'km', 'last_upd': '2019-06-26 14:11:51'}, 'asset': {'id': '9d9fcc8f70b365d2bf8d878312e8fe20ffdda4a9d3dbb0edd6b60c5bbf22e254'}, 'version': '2.0', 'id': 'e0f167ea1452251e390747a3c40790eeee0ca346787bab721507df63de406e5d'}, {'inputs': [{'owners_before': ['5tHKL2Z6YnwqdMoVSPsHSX5fLGP7uRBLmaUereEJeww6'], 'fulfills': {'transaction_id': 'e0f167ea1452251e390747a3c40790eeee0ca346787bab721507df63de406e5d', 'output_index': 0}, 'fulfillment': 'pGSAIEiR0UmXwJvXgo0542tyK_nFfGvYFr9O03VmRECdg_GRgUBzahZVps8zz0Qk4U7ZsOQ9Tq8wZBr9IxKUHINfrgBk4ihbNxI4jhB-hnLL8n9nJC9kVoYqUuSrZ0fFi2iFCt0D'}], 'outputs': [{'public_keys': ['46ApKqPLuuCKkTirio7q3bmiE6CaZB9aoG9J3VaykWV1'], 'condition': {'details': {'type': 'ed25519-sha-256', 'public_key': '46ApKqPLuuCKkTirio7q3bmiE6CaZB9aoG9J3VaykWV1'}, 'uri': 'ni:///sha-256;lJrbWj29g0OzTyJQNMV9FVLjqGQmTbQju8GpBv2_SPg?fpt=ed25519-sha-256&cost=131072'}, 'amount': '1'}], 'operation': 'TRANSFER', 'metadata': None, 'asset': {'id': '9d9fcc8f70b365d2bf8d878312e8fe20ffdda4a9d3dbb0edd6b60c5bbf22e254'}, 'version': '2.0', 'id': 'd88695685142c241d426b0e1bf08dd2575db80dcfbcda70fecafaa0b99ab7574'}, {'inputs': [{'owners_before': ['46ApKqPLuuCKkTirio7q3bmiE6CaZB9aoG9J3VaykWV1'], 'fulfills': {'transaction_id': 'd88695685142c241d426b0e1bf08dd2575db80dcfbcda70fecafaa0b99ab7574', 'output_index': 0}, 'fulfillment': 'pGSAIC3mEFG9DosqF6VZcgKtc_1m-LtWcoJScoBf5vxwrq5EgUB9whCkdFCSk0NDAryfOqwrcOlfRzbH6Oqs91y6DUzRRV-SZ6Z2m2ysheEGtppEVCeRYaTatMC2R8zjsI8BKoQL'}], 'outputs': [{'public_keys': ['AJtRCSEPshm9sFfb8kQbscdcUkjyfJqPt5UDkVwhbyUr'], 'condition': {'details': {'type': 'ed25519-sha-256', 'public_key': 'AJtRCSEPshm9sFfb8kQbscdcUkjyfJqPt5UDkVwhbyUr'}, 'uri': 'ni:///sha-256;kDaj8-u0dxBgdHe8DTIO2OZKqs69Al-v1DyhakS2MxE?fpt=ed25519-sha-256&cost=131072'}, 'amount': '1'}], 'operation': 'TRANSFER', 'metadata': None, 'asset': {'id': '9d9fcc8f70b365d2bf8d878312e8fe20ffdda4a9d3dbb0edd6b60c5bbf22e254'}, 'version': '2.0', 'id': 'c80a301e8c16fdd664bde219249d3cd41dc70dd4b20ffe0efe51ca03a19bf666'}]\n"
     ]
    }
   ],
   "source": [
    "kate = dc.createParticipant()\n",
    "resp = dc.submitAssetAppendTransaction(bikeid, prev_trans_id=resp['trans_id'], new_owner=kate, prev_owner=bob)"
   ]
  },
  {
   "cell_type": "code",
   "execution_count": 13,
   "metadata": {
    "scrolled": false
   },
   "outputs": [
    {
     "data": {
      "text/html": [
       "<div>\n",
       "<style scoped>\n",
       "    .dataframe tbody tr th:only-of-type {\n",
       "        vertical-align: middle;\n",
       "    }\n",
       "\n",
       "    .dataframe tbody tr th {\n",
       "        vertical-align: top;\n",
       "    }\n",
       "\n",
       "    .dataframe thead th {\n",
       "        text-align: right;\n",
       "    }\n",
       "</style>\n",
       "<table border=\"1\" class=\"dataframe\">\n",
       "  <thead>\n",
       "    <tr style=\"text-align: right;\">\n",
       "      <th></th>\n",
       "      <th>asset</th>\n",
       "      <th>id</th>\n",
       "      <th>inputs</th>\n",
       "      <th>metadata</th>\n",
       "      <th>operation</th>\n",
       "      <th>outputs</th>\n",
       "      <th>version</th>\n",
       "    </tr>\n",
       "  </thead>\n",
       "  <tbody>\n",
       "    <tr>\n",
       "      <th>0</th>\n",
       "      <td>{'data': {'bike_serial_number': 'aXz2r12wQ34',...</td>\n",
       "      <td>9d9fcc8f70b365d2bf8d878312e8fe20ffdda4a9d3dbb0...</td>\n",
       "      <td>[{'owners_before': ['5tHKL2Z6YnwqdMoVSPsHSX5fL...</td>\n",
       "      <td>{'distance': 5.2, 'distance_unit': 'km', 'last...</td>\n",
       "      <td>CREATE</td>\n",
       "      <td>[{'public_keys': ['5tHKL2Z6YnwqdMoVSPsHSX5fLGP...</td>\n",
       "      <td>2.0</td>\n",
       "    </tr>\n",
       "    <tr>\n",
       "      <th>1</th>\n",
       "      <td>{'id': '9d9fcc8f70b365d2bf8d878312e8fe20ffdda4...</td>\n",
       "      <td>f49107a8e9a51f7e783c77d1d2cf6743755fe8dbf870d0...</td>\n",
       "      <td>[{'owners_before': ['5tHKL2Z6YnwqdMoVSPsHSX5fL...</td>\n",
       "      <td>{'distance': 4, 'distance_unit': 'km', 'last_u...</td>\n",
       "      <td>TRANSFER</td>\n",
       "      <td>[{'public_keys': ['5tHKL2Z6YnwqdMoVSPsHSX5fLGP...</td>\n",
       "      <td>2.0</td>\n",
       "    </tr>\n",
       "    <tr>\n",
       "      <th>2</th>\n",
       "      <td>{'id': '9d9fcc8f70b365d2bf8d878312e8fe20ffdda4...</td>\n",
       "      <td>f3109caf150ca725c2e1fd5afa24b193cfa81407eea229...</td>\n",
       "      <td>[{'owners_before': ['5tHKL2Z6YnwqdMoVSPsHSX5fL...</td>\n",
       "      <td>{'distance': 5.2, 'distance_unit': 'km', 'last...</td>\n",
       "      <td>TRANSFER</td>\n",
       "      <td>[{'public_keys': ['5tHKL2Z6YnwqdMoVSPsHSX5fLGP...</td>\n",
       "      <td>2.0</td>\n",
       "    </tr>\n",
       "    <tr>\n",
       "      <th>3</th>\n",
       "      <td>{'id': '9d9fcc8f70b365d2bf8d878312e8fe20ffdda4...</td>\n",
       "      <td>f8a86b2a059efa6e0232c2f841bb1a615dfb8d71e95889...</td>\n",
       "      <td>[{'owners_before': ['5tHKL2Z6YnwqdMoVSPsHSX5fL...</td>\n",
       "      <td>{'distance': 4.3, 'distance_unit': 'km', 'last...</td>\n",
       "      <td>TRANSFER</td>\n",
       "      <td>[{'public_keys': ['5tHKL2Z6YnwqdMoVSPsHSX5fLGP...</td>\n",
       "      <td>2.0</td>\n",
       "    </tr>\n",
       "    <tr>\n",
       "      <th>4</th>\n",
       "      <td>{'id': '9d9fcc8f70b365d2bf8d878312e8fe20ffdda4...</td>\n",
       "      <td>16d5fd4bde6a2a402f4f958a997546d9a3cd44b4442bbe...</td>\n",
       "      <td>[{'owners_before': ['5tHKL2Z6YnwqdMoVSPsHSX5fL...</td>\n",
       "      <td>{'distance': 13.26, 'distance_unit': 'km', 'la...</td>\n",
       "      <td>TRANSFER</td>\n",
       "      <td>[{'public_keys': ['5tHKL2Z6YnwqdMoVSPsHSX5fLGP...</td>\n",
       "      <td>2.0</td>\n",
       "    </tr>\n",
       "    <tr>\n",
       "      <th>5</th>\n",
       "      <td>{'id': '9d9fcc8f70b365d2bf8d878312e8fe20ffdda4...</td>\n",
       "      <td>991cdccbae107eaf3e0c412da4f8178c92c41de2d7a071...</td>\n",
       "      <td>[{'owners_before': ['5tHKL2Z6YnwqdMoVSPsHSX5fL...</td>\n",
       "      <td>{'distance': 11.2, 'distance_unit': 'km', 'las...</td>\n",
       "      <td>TRANSFER</td>\n",
       "      <td>[{'public_keys': ['5tHKL2Z6YnwqdMoVSPsHSX5fLGP...</td>\n",
       "      <td>2.0</td>\n",
       "    </tr>\n",
       "    <tr>\n",
       "      <th>6</th>\n",
       "      <td>{'id': '9d9fcc8f70b365d2bf8d878312e8fe20ffdda4...</td>\n",
       "      <td>0af0c656a750ad14f748226c8d77647d982632618126cd...</td>\n",
       "      <td>[{'owners_before': ['5tHKL2Z6YnwqdMoVSPsHSX5fL...</td>\n",
       "      <td>{'distance': 7.1, 'distance_unit': 'km', 'last...</td>\n",
       "      <td>TRANSFER</td>\n",
       "      <td>[{'public_keys': ['5tHKL2Z6YnwqdMoVSPsHSX5fLGP...</td>\n",
       "      <td>2.0</td>\n",
       "    </tr>\n",
       "    <tr>\n",
       "      <th>7</th>\n",
       "      <td>{'id': '9d9fcc8f70b365d2bf8d878312e8fe20ffdda4...</td>\n",
       "      <td>eebe9aaf95546a79c07ba0448d3789954c287026bd410a...</td>\n",
       "      <td>[{'owners_before': ['5tHKL2Z6YnwqdMoVSPsHSX5fL...</td>\n",
       "      <td>{'distance': 4.1, 'distance_unit': 'km', 'last...</td>\n",
       "      <td>TRANSFER</td>\n",
       "      <td>[{'public_keys': ['5tHKL2Z6YnwqdMoVSPsHSX5fLGP...</td>\n",
       "      <td>2.0</td>\n",
       "    </tr>\n",
       "    <tr>\n",
       "      <th>8</th>\n",
       "      <td>{'id': '9d9fcc8f70b365d2bf8d878312e8fe20ffdda4...</td>\n",
       "      <td>8cf1289353b144cb6bb835686762203f677718639acef9...</td>\n",
       "      <td>[{'owners_before': ['5tHKL2Z6YnwqdMoVSPsHSX5fL...</td>\n",
       "      <td>{'distance': 5.8, 'distance_unit': 'km', 'last...</td>\n",
       "      <td>TRANSFER</td>\n",
       "      <td>[{'public_keys': ['5tHKL2Z6YnwqdMoVSPsHSX5fLGP...</td>\n",
       "      <td>2.0</td>\n",
       "    </tr>\n",
       "    <tr>\n",
       "      <th>9</th>\n",
       "      <td>{'id': '9d9fcc8f70b365d2bf8d878312e8fe20ffdda4...</td>\n",
       "      <td>a46e719a2055d6bb77b303b793c8d66cf18b4360061573...</td>\n",
       "      <td>[{'owners_before': ['5tHKL2Z6YnwqdMoVSPsHSX5fL...</td>\n",
       "      <td>{'distance': 6.1, 'distance_unit': 'km', 'last...</td>\n",
       "      <td>TRANSFER</td>\n",
       "      <td>[{'public_keys': ['5tHKL2Z6YnwqdMoVSPsHSX5fLGP...</td>\n",
       "      <td>2.0</td>\n",
       "    </tr>\n",
       "    <tr>\n",
       "      <th>10</th>\n",
       "      <td>{'id': '9d9fcc8f70b365d2bf8d878312e8fe20ffdda4...</td>\n",
       "      <td>007f2dcf4bb53a053239bd1085db9257f3262e5b6a00ea...</td>\n",
       "      <td>[{'owners_before': ['5tHKL2Z6YnwqdMoVSPsHSX5fL...</td>\n",
       "      <td>{'distance': 9.2, 'distance_unit': 'km', 'last...</td>\n",
       "      <td>TRANSFER</td>\n",
       "      <td>[{'public_keys': ['5tHKL2Z6YnwqdMoVSPsHSX5fLGP...</td>\n",
       "      <td>2.0</td>\n",
       "    </tr>\n",
       "    <tr>\n",
       "      <th>11</th>\n",
       "      <td>{'id': '9d9fcc8f70b365d2bf8d878312e8fe20ffdda4...</td>\n",
       "      <td>8d0f8c205c38527100ec6b094ccf8c49c5f3b2483f6e4a...</td>\n",
       "      <td>[{'owners_before': ['5tHKL2Z6YnwqdMoVSPsHSX5fL...</td>\n",
       "      <td>{'distance': 4.8, 'distance_unit': 'km', 'last...</td>\n",
       "      <td>TRANSFER</td>\n",
       "      <td>[{'public_keys': ['5tHKL2Z6YnwqdMoVSPsHSX5fLGP...</td>\n",
       "      <td>2.0</td>\n",
       "    </tr>\n",
       "    <tr>\n",
       "      <th>12</th>\n",
       "      <td>{'id': '9d9fcc8f70b365d2bf8d878312e8fe20ffdda4...</td>\n",
       "      <td>3f7886aa7c230f700d97febcec9c8faa40e9e209c158c5...</td>\n",
       "      <td>[{'owners_before': ['5tHKL2Z6YnwqdMoVSPsHSX5fL...</td>\n",
       "      <td>{'distance': 1.1, 'distance_unit': 'km', 'last...</td>\n",
       "      <td>TRANSFER</td>\n",
       "      <td>[{'public_keys': ['5tHKL2Z6YnwqdMoVSPsHSX5fLGP...</td>\n",
       "      <td>2.0</td>\n",
       "    </tr>\n",
       "    <tr>\n",
       "      <th>13</th>\n",
       "      <td>{'id': '9d9fcc8f70b365d2bf8d878312e8fe20ffdda4...</td>\n",
       "      <td>f70f7ca4abfb7196d498067dbb19801fc53acffaeafe14...</td>\n",
       "      <td>[{'owners_before': ['5tHKL2Z6YnwqdMoVSPsHSX5fL...</td>\n",
       "      <td>{'distance': 3.8, 'distance_unit': 'km', 'last...</td>\n",
       "      <td>TRANSFER</td>\n",
       "      <td>[{'public_keys': ['5tHKL2Z6YnwqdMoVSPsHSX5fLGP...</td>\n",
       "      <td>2.0</td>\n",
       "    </tr>\n",
       "    <tr>\n",
       "      <th>14</th>\n",
       "      <td>{'id': '9d9fcc8f70b365d2bf8d878312e8fe20ffdda4...</td>\n",
       "      <td>57004d23fd3275efe1de24e82787374ef3ea88ddb5a13f...</td>\n",
       "      <td>[{'owners_before': ['5tHKL2Z6YnwqdMoVSPsHSX5fL...</td>\n",
       "      <td>{'distance': 5.3, 'distance_unit': 'km', 'last...</td>\n",
       "      <td>TRANSFER</td>\n",
       "      <td>[{'public_keys': ['5tHKL2Z6YnwqdMoVSPsHSX5fLGP...</td>\n",
       "      <td>2.0</td>\n",
       "    </tr>\n",
       "    <tr>\n",
       "      <th>15</th>\n",
       "      <td>{'id': '9d9fcc8f70b365d2bf8d878312e8fe20ffdda4...</td>\n",
       "      <td>e0f167ea1452251e390747a3c40790eeee0ca346787bab...</td>\n",
       "      <td>[{'owners_before': ['5tHKL2Z6YnwqdMoVSPsHSX5fL...</td>\n",
       "      <td>{'distance': 19.4, 'distance_unit': 'km', 'las...</td>\n",
       "      <td>TRANSFER</td>\n",
       "      <td>[{'public_keys': ['5tHKL2Z6YnwqdMoVSPsHSX5fLGP...</td>\n",
       "      <td>2.0</td>\n",
       "    </tr>\n",
       "    <tr>\n",
       "      <th>16</th>\n",
       "      <td>{'id': '9d9fcc8f70b365d2bf8d878312e8fe20ffdda4...</td>\n",
       "      <td>d88695685142c241d426b0e1bf08dd2575db80dcfbcda7...</td>\n",
       "      <td>[{'owners_before': ['5tHKL2Z6YnwqdMoVSPsHSX5fL...</td>\n",
       "      <td>None</td>\n",
       "      <td>TRANSFER</td>\n",
       "      <td>[{'public_keys': ['46ApKqPLuuCKkTirio7q3bmiE6C...</td>\n",
       "      <td>2.0</td>\n",
       "    </tr>\n",
       "    <tr>\n",
       "      <th>17</th>\n",
       "      <td>{'id': '9d9fcc8f70b365d2bf8d878312e8fe20ffdda4...</td>\n",
       "      <td>c80a301e8c16fdd664bde219249d3cd41dc70dd4b20ffe...</td>\n",
       "      <td>[{'owners_before': ['46ApKqPLuuCKkTirio7q3bmiE...</td>\n",
       "      <td>None</td>\n",
       "      <td>TRANSFER</td>\n",
       "      <td>[{'public_keys': ['AJtRCSEPshm9sFfb8kQbscdcUkj...</td>\n",
       "      <td>2.0</td>\n",
       "    </tr>\n",
       "  </tbody>\n",
       "</table>\n",
       "</div>"
      ],
      "text/plain": [
       "                                                asset  \\\n",
       "0   {'data': {'bike_serial_number': 'aXz2r12wQ34',...   \n",
       "1   {'id': '9d9fcc8f70b365d2bf8d878312e8fe20ffdda4...   \n",
       "2   {'id': '9d9fcc8f70b365d2bf8d878312e8fe20ffdda4...   \n",
       "3   {'id': '9d9fcc8f70b365d2bf8d878312e8fe20ffdda4...   \n",
       "4   {'id': '9d9fcc8f70b365d2bf8d878312e8fe20ffdda4...   \n",
       "5   {'id': '9d9fcc8f70b365d2bf8d878312e8fe20ffdda4...   \n",
       "6   {'id': '9d9fcc8f70b365d2bf8d878312e8fe20ffdda4...   \n",
       "7   {'id': '9d9fcc8f70b365d2bf8d878312e8fe20ffdda4...   \n",
       "8   {'id': '9d9fcc8f70b365d2bf8d878312e8fe20ffdda4...   \n",
       "9   {'id': '9d9fcc8f70b365d2bf8d878312e8fe20ffdda4...   \n",
       "10  {'id': '9d9fcc8f70b365d2bf8d878312e8fe20ffdda4...   \n",
       "11  {'id': '9d9fcc8f70b365d2bf8d878312e8fe20ffdda4...   \n",
       "12  {'id': '9d9fcc8f70b365d2bf8d878312e8fe20ffdda4...   \n",
       "13  {'id': '9d9fcc8f70b365d2bf8d878312e8fe20ffdda4...   \n",
       "14  {'id': '9d9fcc8f70b365d2bf8d878312e8fe20ffdda4...   \n",
       "15  {'id': '9d9fcc8f70b365d2bf8d878312e8fe20ffdda4...   \n",
       "16  {'id': '9d9fcc8f70b365d2bf8d878312e8fe20ffdda4...   \n",
       "17  {'id': '9d9fcc8f70b365d2bf8d878312e8fe20ffdda4...   \n",
       "\n",
       "                                                   id  \\\n",
       "0   9d9fcc8f70b365d2bf8d878312e8fe20ffdda4a9d3dbb0...   \n",
       "1   f49107a8e9a51f7e783c77d1d2cf6743755fe8dbf870d0...   \n",
       "2   f3109caf150ca725c2e1fd5afa24b193cfa81407eea229...   \n",
       "3   f8a86b2a059efa6e0232c2f841bb1a615dfb8d71e95889...   \n",
       "4   16d5fd4bde6a2a402f4f958a997546d9a3cd44b4442bbe...   \n",
       "5   991cdccbae107eaf3e0c412da4f8178c92c41de2d7a071...   \n",
       "6   0af0c656a750ad14f748226c8d77647d982632618126cd...   \n",
       "7   eebe9aaf95546a79c07ba0448d3789954c287026bd410a...   \n",
       "8   8cf1289353b144cb6bb835686762203f677718639acef9...   \n",
       "9   a46e719a2055d6bb77b303b793c8d66cf18b4360061573...   \n",
       "10  007f2dcf4bb53a053239bd1085db9257f3262e5b6a00ea...   \n",
       "11  8d0f8c205c38527100ec6b094ccf8c49c5f3b2483f6e4a...   \n",
       "12  3f7886aa7c230f700d97febcec9c8faa40e9e209c158c5...   \n",
       "13  f70f7ca4abfb7196d498067dbb19801fc53acffaeafe14...   \n",
       "14  57004d23fd3275efe1de24e82787374ef3ea88ddb5a13f...   \n",
       "15  e0f167ea1452251e390747a3c40790eeee0ca346787bab...   \n",
       "16  d88695685142c241d426b0e1bf08dd2575db80dcfbcda7...   \n",
       "17  c80a301e8c16fdd664bde219249d3cd41dc70dd4b20ffe...   \n",
       "\n",
       "                                               inputs  \\\n",
       "0   [{'owners_before': ['5tHKL2Z6YnwqdMoVSPsHSX5fL...   \n",
       "1   [{'owners_before': ['5tHKL2Z6YnwqdMoVSPsHSX5fL...   \n",
       "2   [{'owners_before': ['5tHKL2Z6YnwqdMoVSPsHSX5fL...   \n",
       "3   [{'owners_before': ['5tHKL2Z6YnwqdMoVSPsHSX5fL...   \n",
       "4   [{'owners_before': ['5tHKL2Z6YnwqdMoVSPsHSX5fL...   \n",
       "5   [{'owners_before': ['5tHKL2Z6YnwqdMoVSPsHSX5fL...   \n",
       "6   [{'owners_before': ['5tHKL2Z6YnwqdMoVSPsHSX5fL...   \n",
       "7   [{'owners_before': ['5tHKL2Z6YnwqdMoVSPsHSX5fL...   \n",
       "8   [{'owners_before': ['5tHKL2Z6YnwqdMoVSPsHSX5fL...   \n",
       "9   [{'owners_before': ['5tHKL2Z6YnwqdMoVSPsHSX5fL...   \n",
       "10  [{'owners_before': ['5tHKL2Z6YnwqdMoVSPsHSX5fL...   \n",
       "11  [{'owners_before': ['5tHKL2Z6YnwqdMoVSPsHSX5fL...   \n",
       "12  [{'owners_before': ['5tHKL2Z6YnwqdMoVSPsHSX5fL...   \n",
       "13  [{'owners_before': ['5tHKL2Z6YnwqdMoVSPsHSX5fL...   \n",
       "14  [{'owners_before': ['5tHKL2Z6YnwqdMoVSPsHSX5fL...   \n",
       "15  [{'owners_before': ['5tHKL2Z6YnwqdMoVSPsHSX5fL...   \n",
       "16  [{'owners_before': ['5tHKL2Z6YnwqdMoVSPsHSX5fL...   \n",
       "17  [{'owners_before': ['46ApKqPLuuCKkTirio7q3bmiE...   \n",
       "\n",
       "                                             metadata operation  \\\n",
       "0   {'distance': 5.2, 'distance_unit': 'km', 'last...    CREATE   \n",
       "1   {'distance': 4, 'distance_unit': 'km', 'last_u...  TRANSFER   \n",
       "2   {'distance': 5.2, 'distance_unit': 'km', 'last...  TRANSFER   \n",
       "3   {'distance': 4.3, 'distance_unit': 'km', 'last...  TRANSFER   \n",
       "4   {'distance': 13.26, 'distance_unit': 'km', 'la...  TRANSFER   \n",
       "5   {'distance': 11.2, 'distance_unit': 'km', 'las...  TRANSFER   \n",
       "6   {'distance': 7.1, 'distance_unit': 'km', 'last...  TRANSFER   \n",
       "7   {'distance': 4.1, 'distance_unit': 'km', 'last...  TRANSFER   \n",
       "8   {'distance': 5.8, 'distance_unit': 'km', 'last...  TRANSFER   \n",
       "9   {'distance': 6.1, 'distance_unit': 'km', 'last...  TRANSFER   \n",
       "10  {'distance': 9.2, 'distance_unit': 'km', 'last...  TRANSFER   \n",
       "11  {'distance': 4.8, 'distance_unit': 'km', 'last...  TRANSFER   \n",
       "12  {'distance': 1.1, 'distance_unit': 'km', 'last...  TRANSFER   \n",
       "13  {'distance': 3.8, 'distance_unit': 'km', 'last...  TRANSFER   \n",
       "14  {'distance': 5.3, 'distance_unit': 'km', 'last...  TRANSFER   \n",
       "15  {'distance': 19.4, 'distance_unit': 'km', 'las...  TRANSFER   \n",
       "16                                               None  TRANSFER   \n",
       "17                                               None  TRANSFER   \n",
       "\n",
       "                                              outputs version  \n",
       "0   [{'public_keys': ['5tHKL2Z6YnwqdMoVSPsHSX5fLGP...     2.0  \n",
       "1   [{'public_keys': ['5tHKL2Z6YnwqdMoVSPsHSX5fLGP...     2.0  \n",
       "2   [{'public_keys': ['5tHKL2Z6YnwqdMoVSPsHSX5fLGP...     2.0  \n",
       "3   [{'public_keys': ['5tHKL2Z6YnwqdMoVSPsHSX5fLGP...     2.0  \n",
       "4   [{'public_keys': ['5tHKL2Z6YnwqdMoVSPsHSX5fLGP...     2.0  \n",
       "5   [{'public_keys': ['5tHKL2Z6YnwqdMoVSPsHSX5fLGP...     2.0  \n",
       "6   [{'public_keys': ['5tHKL2Z6YnwqdMoVSPsHSX5fLGP...     2.0  \n",
       "7   [{'public_keys': ['5tHKL2Z6YnwqdMoVSPsHSX5fLGP...     2.0  \n",
       "8   [{'public_keys': ['5tHKL2Z6YnwqdMoVSPsHSX5fLGP...     2.0  \n",
       "9   [{'public_keys': ['5tHKL2Z6YnwqdMoVSPsHSX5fLGP...     2.0  \n",
       "10  [{'public_keys': ['5tHKL2Z6YnwqdMoVSPsHSX5fLGP...     2.0  \n",
       "11  [{'public_keys': ['5tHKL2Z6YnwqdMoVSPsHSX5fLGP...     2.0  \n",
       "12  [{'public_keys': ['5tHKL2Z6YnwqdMoVSPsHSX5fLGP...     2.0  \n",
       "13  [{'public_keys': ['5tHKL2Z6YnwqdMoVSPsHSX5fLGP...     2.0  \n",
       "14  [{'public_keys': ['5tHKL2Z6YnwqdMoVSPsHSX5fLGP...     2.0  \n",
       "15  [{'public_keys': ['5tHKL2Z6YnwqdMoVSPsHSX5fLGP...     2.0  \n",
       "16  [{'public_keys': ['46ApKqPLuuCKkTirio7q3bmiE6C...     2.0  \n",
       "17  [{'public_keys': ['AJtRCSEPshm9sFfb8kQbscdcUkj...     2.0  "
      ]
     },
     "execution_count": 13,
     "metadata": {},
     "output_type": "execute_result"
    }
   ],
   "source": [
    "dc.getAssetTransactions(bikeid, res_type='pandas')"
   ]
  },
  {
   "cell_type": "code",
   "execution_count": 33,
   "metadata": {},
   "outputs": [
    {
     "data": {
      "text/plain": [
       "3"
      ]
     },
     "execution_count": 33,
     "metadata": {},
     "output_type": "execute_result"
    }
   ],
   "source": [
    "tab3 = dc.getAssetOwnership(bikeid, res_type='pandas')\n",
    "unique_owners = tab3['current_owners'].map(lambda x: x[0]).unique()\n",
    "len(unique_owners)"
   ]
  },
  {
   "cell_type": "code",
   "execution_count": null,
   "metadata": {},
   "outputs": [],
   "source": []
  }
 ],
 "metadata": {
  "kernelspec": {
   "display_name": "Python 3",
   "language": "python",
   "name": "python3"
  },
  "language_info": {
   "codemirror_mode": {
    "name": "ipython",
    "version": 3
   },
   "file_extension": ".py",
   "mimetype": "text/x-python",
   "name": "python",
   "nbconvert_exporter": "python",
   "pygments_lexer": "ipython3",
   "version": "3.7.3"
  }
 },
 "nbformat": 4,
 "nbformat_minor": 2
}
