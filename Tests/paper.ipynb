{
 "cells": [
  {
   "cell_type": "code",
   "execution_count": null,
   "metadata": {},
   "outputs": [],
   "source": [
    "from Datachain import Datachain\n",
    "\n",
    "dc = Datachain( 'Bigchaindb', \n",
    "                endpoints=['http://localhost:9984'], \n",
    "                params={'api-key': 'AILab-secret-x2019'} )\n",
    "\n",
    "alice = dc.createParticipant(save=True)"
   ]
  },
  {
   "cell_type": "code",
   "execution_count": null,
   "metadata": {},
   "outputs": [],
   "source": [
    "dc = Datachain( 'Hyperledger', \n",
    "                endpoints=['http://localhost:3000'], \n",
    "                params={ 'api-key': 'AILab-secret-x2019',\n",
    "                         'remote_tls': True\n",
    "                        } \n",
    "              )\n"
   ]
  },
  {
   "cell_type": "markdown",
   "metadata": {},
   "source": [
    "alice = {\n",
    "  \"public_key\": \"5tHKL2Z6YnwqdMoVSPsHSX5fLGP7uRBLmaUereEJeww6\",\n",
    "  \"private_key\": \"3mPr2MotyJuvyGbr4rUC2bYVPgYe6eKUdsx2LXRQZWsf\"\n",
    "}"
   ]
  },
  {
   "cell_type": "code",
   "execution_count": null,
   "metadata": {},
   "outputs": [],
   "source": []
  },
  {
   "cell_type": "code",
   "execution_count": null,
   "metadata": {},
   "outputs": [],
   "source": []
  },
  {
   "cell_type": "code",
   "execution_count": null,
   "metadata": {},
   "outputs": [],
   "source": []
  }
 ],
 "metadata": {
  "celltoolbar": "Raw Cell Format",
  "kernelspec": {
   "display_name": "Python 3",
   "language": "python",
   "name": "python3"
  },
  "language_info": {
   "codemirror_mode": {
    "name": "ipython",
    "version": 3
   },
   "file_extension": ".py",
   "mimetype": "text/x-python",
   "name": "python",
   "nbconvert_exporter": "python",
   "pygments_lexer": "ipython3",
   "version": "3.7.3"
  }
 },
 "nbformat": 4,
 "nbformat_minor": 2
}
