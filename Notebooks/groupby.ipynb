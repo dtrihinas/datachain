{
 "cells": [
  {
   "cell_type": "code",
   "execution_count": 2,
   "metadata": {},
   "outputs": [],
   "source": [
    "import sys\n",
    "import os\n",
    "module_path = os.path.abspath(os.path.join('..'))\n",
    "if module_path not in sys.path:\n",
    "    sys.path.append(module_path)"
   ]
  },
  {
   "cell_type": "code",
   "execution_count": 3,
   "metadata": {},
   "outputs": [
    {
     "name": "stdout",
     "output_type": "stream",
     "text": [
      "Datachain>> Successfully connected to Bigchaindb...\n",
      "{'backend': 'Bigchaindb', 'endpoints': ['http://localhost:9984'], 'params': {'api-key': 'AILab-x2020'}}\n"
     ]
    }
   ],
   "source": [
    "from Datachain import Datachain\n",
    "\n",
    "dc = Datachain('Bigchaindb', ['http://localhost:9984'], params={'api-key': 'AILab-x2020'})\n",
    "print(dc.getBackendConfig())"
   ]
  },
  {
   "cell_type": "code",
   "execution_count": 4,
   "metadata": {},
   "outputs": [
    {
     "name": "stdout",
     "output_type": "stream",
     "text": [
      "alice private key: GDGWhqi9bYkqSEsbUoqPFwGRCysMf5Nt2JLD5AG9qdBc\n",
      "alice public key: BbYppQ364dccsVXc55KgdNmN52EisGgozsG7vWwJ8rHS\n"
     ]
    }
   ],
   "source": [
    "alice = dc.createParticipant(save=True)\n",
    "print('alice private key: ' + alice['private_key'])\n",
    "print('alice public key: ' + alice['public_key'])"
   ]
  },
  {
   "cell_type": "code",
   "execution_count": 6,
   "metadata": {},
   "outputs": [
    {
     "name": "stdout",
     "output_type": "stream",
     "text": [
      "BigChainConnector>> Asset prepared, signed and verified for submission\n",
      "BigChainConnector>> Asset committed to blockchain ledger with transaction id: 2c3e0039f2259c8a6edc3af8b301590cc027d1c1831fe0ac1be639eaa938e05f\n"
     ]
    }
   ],
   "source": [
    "bike = {\n",
    "    'bike_serial_number': 'aXz2r12wQ34',\n",
    "    'bike_manufacturer': 'Raleigh',\n",
    "    'bike_type': 'Road Bike',\n",
    "    'bike_color': 'Red',\n",
    "    'bike_size': '26',\n",
    "    'bike_size_units': 'in',\n",
    "    'bike_weight' : 22.7,\n",
    "    'bike_weight_units': 'kg'\n",
    "}\n",
    "\n",
    "#mutable attributes\n",
    "bike_ass_data = {'distance': 5.2, 'distance_unit':'km', 'last_upd': '2019-06-14 08:45:35'}\n",
    "\n",
    "#alice credentials already stored\n",
    "resp = dc.submitAssetCreateTransaction(bike, ass_data=bike_ass_data)\n",
    "\n",
    "bikeid, tid = resp['asset_id'], resp['trans_id']"
   ]
  },
  {
   "cell_type": "code",
   "execution_count": 7,
   "metadata": {},
   "outputs": [
    {
     "name": "stdout",
     "output_type": "stream",
     "text": [
      "BigChainConnector>> Asset prepared, signed and verified for submission\n",
      "BigChainConnector>> Asset transfer committed to blockchain ledger with transaction id: 8376513aa8b37d0bc10cfc1181587e0378755f6dda6bdedf01ccf32da56f7edb\n",
      "BigChainConnector>> Asset prepared, signed and verified for submission\n",
      "BigChainConnector>> Asset transfer committed to blockchain ledger with transaction id: 37dba8f6e4b15ef2a3a00599b02306ecbc3e1a0370eb909e8c62ca61bba3455d\n",
      "BigChainConnector>> Asset prepared, signed and verified for submission\n",
      "BigChainConnector>> Asset transfer committed to blockchain ledger with transaction id: 59a75750cfc3ca6e0789fc1671c71da66feb790250e21ef2280226718462bf9f\n",
      "BigChainConnector>> Asset prepared, signed and verified for submission\n",
      "BigChainConnector>> Asset transfer committed to blockchain ledger with transaction id: 8737d3f79b03a08f17a10b49e7cc3687f992b2d0c2863b719a3c8a7ca324f892\n",
      "BigChainConnector>> Asset prepared, signed and verified for submission\n",
      "BigChainConnector>> Asset transfer committed to blockchain ledger with transaction id: e7623e1dda51f9943d9b6dada4f40330b2bba4b3c0d2b625809c70ffb5526000\n",
      "BigChainConnector>> Asset prepared, signed and verified for submission\n",
      "BigChainConnector>> Asset transfer committed to blockchain ledger with transaction id: 76d9365fb376faa7f4ece983e516df43ca1ea8706fbe2da5cdca36d75381c8de\n",
      "BigChainConnector>> Asset prepared, signed and verified for submission\n",
      "BigChainConnector>> Asset transfer committed to blockchain ledger with transaction id: b7a9b1e0d887de80fbda89c93860f2419cd505af8be768f6b0601684b777b3ca\n",
      "BigChainConnector>> Asset prepared, signed and verified for submission\n",
      "BigChainConnector>> Asset transfer committed to blockchain ledger with transaction id: 66bcd49178023f1d597ae22b8b536fb37bc34aa2c18139cf33f50d09d2a25916\n",
      "BigChainConnector>> Asset prepared, signed and verified for submission\n",
      "BigChainConnector>> Asset transfer committed to blockchain ledger with transaction id: c0f14165028ba7e8ceaeec187220b3ff1f1c8c4ba49da52cc16d20347c7ac166\n",
      "BigChainConnector>> Asset prepared, signed and verified for submission\n",
      "BigChainConnector>> Asset transfer committed to blockchain ledger with transaction id: 5d47365251132cd31dbfb6c66be254080adc4ef945dc6c0dcde813c8dbcde4c8\n",
      "BigChainConnector>> Asset prepared, signed and verified for submission\n",
      "BigChainConnector>> Asset transfer committed to blockchain ledger with transaction id: e91d4fa1f8e1fc9c18d0b4e36c5b6ec5c5fda87048a73469d340b7ab4ace66a0\n",
      "BigChainConnector>> Asset prepared, signed and verified for submission\n",
      "BigChainConnector>> Asset transfer committed to blockchain ledger with transaction id: ff69ae97e34388e3cdd3bfde9b2dbcc84358d2e8394de050ed1857c0c39a5ae8\n",
      "BigChainConnector>> Asset prepared, signed and verified for submission\n",
      "BigChainConnector>> Asset transfer committed to blockchain ledger with transaction id: 1f6268f20b04db41dc818bc250bf34e1cc239f831f7fc8354e54d6421c5bff48\n",
      "BigChainConnector>> Asset prepared, signed and verified for submission\n",
      "BigChainConnector>> Asset transfer committed to blockchain ledger with transaction id: b7309fc25c34d9f3fa1178f5b7a5d9eb664589e3ba4963757a082de0b840e205\n",
      "BigChainConnector>> Asset prepared, signed and verified for submission\n",
      "BigChainConnector>> Asset transfer committed to blockchain ledger with transaction id: 5df56198aa4b336f68bfd98e6c2113b770db21b531c829a9faa552a35b98ae1f\n"
     ]
    }
   ],
   "source": [
    "bike_ass_data = {'distance': 4, 'distance_unit':'km', 'last_upd': '2019-06-14 17:24:11'}\n",
    "resp=dc.submitAssetAppendTransaction(bikeid, ass_data=bike_ass_data, prev_trans_id=tid)\n",
    "\n",
    "bike_ass_data = {'distance': 5.2, 'distance_unit':'km', 'last_upd': '2019-06-15 08:12:10'}\n",
    "resp=dc.submitAssetAppendTransaction(bikeid, ass_data=bike_ass_data, prev_trans_id=resp['trans_id'])\n",
    "\n",
    "bike_ass_data = {'distance': 4.3, 'distance_unit':'km', 'last_upd': '2019-06-15 16:11:53'}\n",
    "resp=dc.submitAssetAppendTransaction(bikeid, ass_data=bike_ass_data, prev_trans_id=resp['trans_id'])\n",
    "\n",
    "bike_ass_data = {'distance': 13.26, 'distance_unit':'km', 'last_upd': '2019-06-16 12:18:15'}\n",
    "resp=dc.submitAssetAppendTransaction(bikeid, ass_data=bike_ass_data, prev_trans_id=resp['trans_id'])\n",
    "\n",
    "bike_ass_data = {'distance': 11.2, 'distance_unit':'km', 'last_upd': '2019-06-17 16:14:50'}\n",
    "resp=dc.submitAssetAppendTransaction(bikeid, ass_data=bike_ass_data, prev_trans_id=resp['trans_id'])\n",
    "\n",
    "bike_ass_data = {'distance': 7.1, 'distance_unit':'km', 'last_upd': '2019-06-18 18:11:51'}\n",
    "resp=dc.submitAssetAppendTransaction(bikeid, ass_data=bike_ass_data, prev_trans_id=resp['trans_id'])\n",
    "\n",
    "bike_ass_data = {'distance': 4.1, 'distance_unit':'km', 'last_upd': '2019-06-19 08:11:51'}\n",
    "resp=dc.submitAssetAppendTransaction(bikeid, ass_data=bike_ass_data, prev_trans_id=resp['trans_id'])\n",
    "\n",
    "bike_ass_data = {'distance': 5.8, 'distance_unit':'km', 'last_upd': '2019-06-19 17:11:51'}\n",
    "resp=dc.submitAssetAppendTransaction(bikeid, ass_data=bike_ass_data, prev_trans_id=resp['trans_id'])\n",
    "\n",
    "bike_ass_data = {'distance': 6.1, 'distance_unit':'km', 'last_upd': '2019-06-20 08:11:51'}\n",
    "resp=dc.submitAssetAppendTransaction(bikeid, ass_data=bike_ass_data, prev_trans_id=resp['trans_id'])\n",
    "\n",
    "bike_ass_data = {'distance': 9.2, 'distance_unit':'km', 'last_upd': '2019-06-21 13:11:51'}\n",
    "resp=dc.submitAssetAppendTransaction(bikeid, ass_data=bike_ass_data, prev_trans_id=resp['trans_id'])\n",
    "\n",
    "bike_ass_data = {'distance': 4.8, 'distance_unit':'km', 'last_upd': '2019-06-22 09:11:51'}\n",
    "resp=dc.submitAssetAppendTransaction(bikeid, ass_data=bike_ass_data, prev_trans_id=resp['trans_id'])\n",
    "\n",
    "bike_ass_data = {'distance': 1.1, 'distance_unit':'km', 'last_upd': '2019-06-23 15:11:51'}\n",
    "resp=dc.submitAssetAppendTransaction(bikeid, ass_data=bike_ass_data, prev_trans_id=resp['trans_id'])\n",
    "\n",
    "bike_ass_data = {'distance': 3.8, 'distance_unit':'km', 'last_upd': '2019-06-24 18:11:51'}\n",
    "resp=dc.submitAssetAppendTransaction(bikeid, ass_data=bike_ass_data, prev_trans_id=resp['trans_id'])\n",
    "\n",
    "bike_ass_data = {'distance': 5.3, 'distance_unit':'km', 'last_upd': '2019-06-25 19:11:51'}\n",
    "resp=dc.submitAssetAppendTransaction(bikeid, ass_data=bike_ass_data, prev_trans_id=resp['trans_id'])\n",
    "\n",
    "bike_ass_data = {'distance': 19.4, 'distance_unit':'km', 'last_upd': '2019-06-26 14:11:51'}\n",
    "resp=dc.submitAssetAppendTransaction(bikeid, ass_data=bike_ass_data, prev_trans_id=resp['trans_id'])"
   ]
  },
  {
   "cell_type": "code",
   "execution_count": 8,
   "metadata": {},
   "outputs": [
    {
     "data": {
      "text/html": [
       "<div>\n",
       "<style scoped>\n",
       "    .dataframe tbody tr th:only-of-type {\n",
       "        vertical-align: middle;\n",
       "    }\n",
       "\n",
       "    .dataframe tbody tr th {\n",
       "        vertical-align: top;\n",
       "    }\n",
       "\n",
       "    .dataframe thead th {\n",
       "        text-align: right;\n",
       "    }\n",
       "</style>\n",
       "<table border=\"1\" class=\"dataframe\">\n",
       "  <thead>\n",
       "    <tr style=\"text-align: right;\">\n",
       "      <th></th>\n",
       "      <th>distance</th>\n",
       "      <th>distance_unit</th>\n",
       "      <th>last_upd</th>\n",
       "      <th>covered_dist</th>\n",
       "    </tr>\n",
       "  </thead>\n",
       "  <tbody>\n",
       "    <tr>\n",
       "      <th>0</th>\n",
       "      <td>5.20</td>\n",
       "      <td>km</td>\n",
       "      <td>2019-06-14 08:45:35</td>\n",
       "      <td>5.20</td>\n",
       "    </tr>\n",
       "    <tr>\n",
       "      <th>1</th>\n",
       "      <td>4.00</td>\n",
       "      <td>km</td>\n",
       "      <td>2019-06-14 17:24:11</td>\n",
       "      <td>9.20</td>\n",
       "    </tr>\n",
       "    <tr>\n",
       "      <th>2</th>\n",
       "      <td>5.20</td>\n",
       "      <td>km</td>\n",
       "      <td>2019-06-15 08:12:10</td>\n",
       "      <td>14.40</td>\n",
       "    </tr>\n",
       "    <tr>\n",
       "      <th>3</th>\n",
       "      <td>4.30</td>\n",
       "      <td>km</td>\n",
       "      <td>2019-06-15 16:11:53</td>\n",
       "      <td>18.70</td>\n",
       "    </tr>\n",
       "    <tr>\n",
       "      <th>4</th>\n",
       "      <td>13.26</td>\n",
       "      <td>km</td>\n",
       "      <td>2019-06-16 12:18:15</td>\n",
       "      <td>31.96</td>\n",
       "    </tr>\n",
       "    <tr>\n",
       "      <th>5</th>\n",
       "      <td>11.20</td>\n",
       "      <td>km</td>\n",
       "      <td>2019-06-17 16:14:50</td>\n",
       "      <td>43.16</td>\n",
       "    </tr>\n",
       "    <tr>\n",
       "      <th>6</th>\n",
       "      <td>7.10</td>\n",
       "      <td>km</td>\n",
       "      <td>2019-06-18 18:11:51</td>\n",
       "      <td>50.26</td>\n",
       "    </tr>\n",
       "    <tr>\n",
       "      <th>7</th>\n",
       "      <td>4.10</td>\n",
       "      <td>km</td>\n",
       "      <td>2019-06-19 08:11:51</td>\n",
       "      <td>54.36</td>\n",
       "    </tr>\n",
       "    <tr>\n",
       "      <th>8</th>\n",
       "      <td>5.80</td>\n",
       "      <td>km</td>\n",
       "      <td>2019-06-19 17:11:51</td>\n",
       "      <td>60.16</td>\n",
       "    </tr>\n",
       "    <tr>\n",
       "      <th>9</th>\n",
       "      <td>6.10</td>\n",
       "      <td>km</td>\n",
       "      <td>2019-06-20 08:11:51</td>\n",
       "      <td>66.26</td>\n",
       "    </tr>\n",
       "    <tr>\n",
       "      <th>10</th>\n",
       "      <td>9.20</td>\n",
       "      <td>km</td>\n",
       "      <td>2019-06-21 13:11:51</td>\n",
       "      <td>75.46</td>\n",
       "    </tr>\n",
       "    <tr>\n",
       "      <th>11</th>\n",
       "      <td>4.80</td>\n",
       "      <td>km</td>\n",
       "      <td>2019-06-22 09:11:51</td>\n",
       "      <td>80.26</td>\n",
       "    </tr>\n",
       "    <tr>\n",
       "      <th>12</th>\n",
       "      <td>1.10</td>\n",
       "      <td>km</td>\n",
       "      <td>2019-06-23 15:11:51</td>\n",
       "      <td>81.36</td>\n",
       "    </tr>\n",
       "    <tr>\n",
       "      <th>13</th>\n",
       "      <td>3.80</td>\n",
       "      <td>km</td>\n",
       "      <td>2019-06-24 18:11:51</td>\n",
       "      <td>85.16</td>\n",
       "    </tr>\n",
       "    <tr>\n",
       "      <th>14</th>\n",
       "      <td>5.30</td>\n",
       "      <td>km</td>\n",
       "      <td>2019-06-25 19:11:51</td>\n",
       "      <td>90.46</td>\n",
       "    </tr>\n",
       "    <tr>\n",
       "      <th>15</th>\n",
       "      <td>19.40</td>\n",
       "      <td>km</td>\n",
       "      <td>2019-06-26 14:11:51</td>\n",
       "      <td>109.86</td>\n",
       "    </tr>\n",
       "  </tbody>\n",
       "</table>\n",
       "</div>"
      ],
      "text/plain": [
       "    distance distance_unit             last_upd  covered_dist\n",
       "0       5.20            km  2019-06-14 08:45:35          5.20\n",
       "1       4.00            km  2019-06-14 17:24:11          9.20\n",
       "2       5.20            km  2019-06-15 08:12:10         14.40\n",
       "3       4.30            km  2019-06-15 16:11:53         18.70\n",
       "4      13.26            km  2019-06-16 12:18:15         31.96\n",
       "5      11.20            km  2019-06-17 16:14:50         43.16\n",
       "6       7.10            km  2019-06-18 18:11:51         50.26\n",
       "7       4.10            km  2019-06-19 08:11:51         54.36\n",
       "8       5.80            km  2019-06-19 17:11:51         60.16\n",
       "9       6.10            km  2019-06-20 08:11:51         66.26\n",
       "10      9.20            km  2019-06-21 13:11:51         75.46\n",
       "11      4.80            km  2019-06-22 09:11:51         80.26\n",
       "12      1.10            km  2019-06-23 15:11:51         81.36\n",
       "13      3.80            km  2019-06-24 18:11:51         85.16\n",
       "14      5.30            km  2019-06-25 19:11:51         90.46\n",
       "15     19.40            km  2019-06-26 14:11:51        109.86"
      ]
     },
     "execution_count": 8,
     "metadata": {},
     "output_type": "execute_result"
    }
   ],
   "source": [
    "tab = dc.getAssetMutableData(bikeid, res_type='pandas')\n",
    "tab['covered_dist'] = tab['distance'].cumsum() #distance covered so far\n",
    "tab"
   ]
  },
  {
   "cell_type": "code",
   "execution_count": 30,
   "metadata": {},
   "outputs": [
    {
     "data": {
      "text/plain": [
       "Date\n",
       "2019-06-14     9.20\n",
       "2019-06-15     9.50\n",
       "2019-06-16    13.26\n",
       "2019-06-17    11.20\n",
       "2019-06-18     7.10\n",
       "2019-06-19     9.90\n",
       "2019-06-20     6.10\n",
       "2019-06-21     9.20\n",
       "2019-06-22     4.80\n",
       "2019-06-23     1.10\n",
       "2019-06-24     3.80\n",
       "2019-06-25     5.30\n",
       "2019-06-26    19.40\n",
       "Name: distance, dtype: float64"
      ]
     },
     "execution_count": 30,
     "metadata": {},
     "output_type": "execute_result"
    }
   ],
   "source": [
    "dc.getAssetMutableData(bikeid, res_type='pandas')\n",
    "  .groupby('Date')['distance'].sum()"
   ]
  },
  {
   "cell_type": "code",
   "execution_count": null,
   "metadata": {},
   "outputs": [],
   "source": []
  }
 ],
 "metadata": {
  "kernelspec": {
   "display_name": "Python 3",
   "language": "python",
   "name": "python3"
  },
  "language_info": {
   "codemirror_mode": {
    "name": "ipython",
    "version": 3
   },
   "file_extension": ".py",
   "mimetype": "text/x-python",
   "name": "python",
   "nbconvert_exporter": "python",
   "pygments_lexer": "ipython3",
   "version": "3.7.3"
  }
 },
 "nbformat": 4,
 "nbformat_minor": 2
}
